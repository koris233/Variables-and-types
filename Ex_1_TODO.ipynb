{
 "cells": [
  {
   "cell_type": "markdown",
   "metadata": {},
   "source": [
    "Complete the following code before committing and pushing them to your GH repo:"
   ]
  },
  {
   "cell_type": "code",
   "execution_count": 2,
   "metadata": {},
   "outputs": [
    {
     "name": "stdout",
     "output_type": "stream",
     "text": [
      "NURSERY RHYMES\n",
      "nursery rhymes\n",
      "baa, baa, baa, black sheep, have you any wool?\n",
      " maa, maa, maa, black sheep, have you any wool? \n",
      "['baa,', 'baa,', 'baa,', 'black', 'sheep,', 'have', 'you', 'any', 'wool?']\n",
      "3\n",
      "2\n",
      "34\n",
      "-1\n",
      "True\n",
      "True\n"
     ]
    }
   ],
   "source": [
    "str1 = ' baa, baa, baa, black sheep, have you any wool? '\n",
    "str2 = 'Nursery rhymes'\n",
    "\n",
    "# Define the poem variable using multiline strings\n",
    "poem = \"\"\"baa, baa, baa, black sheep, have you any wool?\n",
    "Yes sir, yes sir, three bags full.\n",
    "One for the master, one for the dame,\n",
    "One for the little boy who lives down the lane.\"\"\"\n",
    "\n",
    "# Print str2 in upper case using upper()\n",
    "print(str2.upper())\n",
    "\n",
    "# Print str2 in lower case using lower()\n",
    "print(str2.lower())\n",
    "\n",
    "# Remove leading and trailing whitespaces using strip()\n",
    "print(str1.strip())\n",
    "\n",
    "# Replace 'baa' with 'maa' using replace()\n",
    "print(str1.replace('baa', 'maa'))\n",
    "\n",
    "# Split str1 into a list using split() with space as the delimiter\n",
    "print(str1.split())\n",
    "\n",
    "# Count the number of occurrences of 'baa' in str1\n",
    "print(str1.count('baa'))\n",
    "\n",
    "# Count the number of occurrences of 'baa' in str1 from index 5 to 30\n",
    "print(str1[5:30].count('baa'))\n",
    "\n",
    "# Find the index of 'y' in str1\n",
    "print(str1.find('y'))\n",
    "\n",
    "# Find the index of 'z' in str1\n",
    "print(str1.find('z'))\n",
    "\n",
    "# Check if str1 ends with '? '\n",
    "print(str1.endswith('? '))\n",
    "\n",
    "# Check if str2 starts with 'Nursery'\n",
    "print(str2.startswith('Nursery'))\n"
   ]
  },
  {
   "cell_type": "code",
   "execution_count": null,
   "metadata": {},
   "outputs": [],
   "source": []
  }
 ],
 "metadata": {
  "kernelspec": {
   "display_name": "Python 3",
   "language": "python",
   "name": "python3"
  },
  "language_info": {
   "codemirror_mode": {
    "name": "ipython",
    "version": 3
   },
   "file_extension": ".py",
   "mimetype": "text/x-python",
   "name": "python",
   "nbconvert_exporter": "python",
   "pygments_lexer": "ipython3",
   "version": "3.12.4"
  }
 },
 "nbformat": 4,
 "nbformat_minor": 2
}
